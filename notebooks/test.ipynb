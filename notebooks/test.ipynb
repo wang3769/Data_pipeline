{
 "cells": [
  {
   "cell_type": "markdown",
   "id": "fa93b63d",
   "metadata": {},
   "source": [
    "this is a test field for quick try out"
   ]
  },
  {
   "cell_type": "markdown",
   "id": "b199529b",
   "metadata": {},
   "source": []
  }
 ],
 "metadata": {
  "kernelspec": {
   "display_name": "Python 3",
   "language": "python",
   "name": "python3"
  },
  "language_info": {
   "name": "python",
   "version": "3.12.10"
  }
 },
 "nbformat": 4,
 "nbformat_minor": 5
}
